{
    "metadata": {
        "kernelspec": {
            "name": "SQL",
            "display_name": "SQL",
            "language": "sql"
        },
        "language_info": {
            "name": "sql",
            "version": ""
        },
        "extensions": {
            "azuredatastudio": {
                "version": 1,
                "views": []
            }
        }
    },
    "nbformat_minor": 2,
    "nbformat": 4,
    "cells": [
        {
            "cell_type": "markdown",
            "source": [
                "1. Listázzuk a <span style=\"color: #800000;\">`kolcsonzes`</span> tábla következő oszlopait: ID, ki\\_datum, vissza\\_datum! \n",
                "\n",
                "  \n",
                "\n",
                "a.  Az ID oszlop neve legyen Azonosító\n",
                "\n",
                "b.  A ki\\_datum oszlop neve legyen Kölcsönzés\\_dátuma\n",
                "\n",
                "c.  A vissza\\_datum oszlop neve legyen Visszahozatal\\_dátuma"
            ],
            "metadata": {
                "azdata_cell_guid": "77f2d5b3-38e9-41cc-893f-f5afd02b97ef"
            },
            "attachments": {}
        },
        {
            "cell_type": "code",
            "source": [
                "SELECT ID AS 'Azonosító', -- a kölcsönző azonosítója\r\n",
                "       ki_datum AS 'Kölcsönzés dátuma',\r\n",
                "       vissza_datum AS 'Visszahozatal dátuma'\r\n",
                "FROM kolcsonzesek"
            ],
            "metadata": {
                "azdata_cell_guid": "bd3cef1a-4e6e-4ece-9dc3-aaa9d2b5d66d",
                "language": "sql"
            },
            "outputs": [],
            "execution_count": null
        },
        {
            "cell_type": "markdown",
            "source": [
                "2. Melyek azok a kölcsönzések, amelyek 2005.01.01 és 2007.01.01 között történtek?"
            ],
            "metadata": {
                "azdata_cell_guid": "88f5b4bb-f4c1-4bad-a0c7-b2592687b422"
            },
            "attachments": {}
        },
        {
            "cell_type": "code",
            "source": [
                "-- Feladatok: 2, 3, 5, 7, 8, 10\r\n",
                "SELECT *\r\n",
                "FROM kolcsonzesek\r\n",
                "WHERE ki_datum >= '2005.01.01' AND ki_datum <= '2007.01.01'\r\n",
                "-- WHERE ki_datum BETWEEN '2005.01.01' AND '2007.01.01'\r\n",
                ""
            ],
            "metadata": {
                "azdata_cell_guid": "e9de5726-f036-4fb9-8c33-a873955ed886",
                "language": "sql"
            },
            "outputs": [],
            "execution_count": null
        },
        {
            "cell_type": "markdown",
            "source": [
                "3. Melyek azok a tagok, akiknek kedvenc stílusa a játék, és nevük a-ra végződik?\n",
                "\n",
                "  \n",
                "\n",
                "a.  Csak a tagok neve jelenjen meg, az oszlop neve Név legyen"
            ],
            "metadata": {
                "azdata_cell_guid": "9e7249de-1b59-43d8-84b1-26fa7d81fc5a"
            },
            "attachments": {}
        },
        {
            "cell_type": "code",
            "source": [
                "-- LIKE operátor\r\n",
                "SELECT nev AS 'Név'\r\n",
                "FROM tagok\r\n",
                "WHERE kedvencstilus = 'játék' AND \r\n",
                "      nev LIKE '%a'"
            ],
            "metadata": {
                "azdata_cell_guid": "6405d3e8-a9b1-45d7-aa76-3b1e785ef6cc",
                "language": "sql"
            },
            "outputs": [],
            "execution_count": null
        },
        {
            "cell_type": "markdown",
            "source": [
                "4. Listázzuk egy oszlopban a tagok nevét, címét és kedvenc stílusát összefűzve! \n",
                "\n",
                "  \n",
                "\n",
                "a.  A nevet, címet és a stílust kötőjellel válasszuk el\n",
                "\n",
                "b.  A kötőjelek előtt és után legyen 1-1 szóköz\n",
                "\n",
                "c.  Az oszlop neve legyen TAG\n",
                "\n",
                "d.  Kinga keresztnevű tagok ne legyenek benne a listában"
            ],
            "metadata": {
                "azdata_cell_guid": "6478e469-c094-472c-a772-ccd5b5c61516"
            },
            "attachments": {}
        },
        {
            "cell_type": "code",
            "source": [
                ""
            ],
            "metadata": {
                "azdata_cell_guid": "02031ea2-3838-458d-839c-228e3b362b61",
                "language": "sql"
            },
            "outputs": [],
            "execution_count": null
        },
        {
            "cell_type": "markdown",
            "source": [
                "5. Mennyi lenne a dvd-k nettó ára, ha 20%-kal csökkenne? \n",
                "\n",
                "  \n",
                "\n",
                "a.  Csak a dvd-k címét és a csökkentett árat jelenítsük meg\n",
                "\n",
                "b.  A csökkentett árat nevezzük el diszkont\\_ar-nak"
            ],
            "metadata": {
                "azdata_cell_guid": "9edbbaf9-c276-4898-9a01-e1b2993c089f"
            },
            "attachments": {}
        },
        {
            "cell_type": "code",
            "source": [
                "-- diszkont ár = nettó ár * 0.8\r\n",
                "SELECT  cim,\r\n",
                "        nettoar * 0.8 AS 'diszkont ár'\r\n",
                "FROM dvd"
            ],
            "metadata": {
                "azdata_cell_guid": "5ad5fdcb-2878-4111-861a-833bcd50e935",
                "language": "sql"
            },
            "outputs": [],
            "execution_count": null
        },
        {
            "cell_type": "markdown",
            "source": [
                "6. Melyek azok a kölcsönzések, ahol még nem hozták vissza a dvd-t?"
            ],
            "metadata": {
                "azdata_cell_guid": "5fe65c1c-2479-45ac-ad03-ec99d12eae21"
            },
            "attachments": {}
        },
        {
            "cell_type": "code",
            "source": [
                ""
            ],
            "metadata": {
                "azdata_cell_guid": "924f2dde-f1c2-4def-a7f9-dbf4bace7735",
                "language": "sql"
            },
            "outputs": [],
            "execution_count": null
        },
        {
            "cell_type": "markdown",
            "source": [
                "7. Listázzuk azon diákok nevét és születési idejét, akik 1984-ben vagy 1985-ben születtek!  \n",
                "\n",
                "  \n",
                "\n",
                "a.  A születési dátum csak az évet, hónapot és a napot tartalmazza! \n",
                "\n",
                "b.  A születési dátum oszlopát nevezzük el 'Születési idő'-nek!"
            ],
            "metadata": {
                "azdata_cell_guid": "3aeb6bf5-b111-40d5-92b2-9712ce335696"
            },
            "attachments": {}
        },
        {
            "cell_type": "code",
            "source": [
                "SELECT Nev,\r\n",
                "       --CAST(Szulido AS date)\r\n",
                "       --LEFT(CAST(Szulido AS nvarchar(25)), 11)\r\n",
                "       CAST(YEAR(szulido) as nvarchar(4)) + '.' +\r\n",
                "       CAST(MONTH(szulido) as nvarchar(2)) + '.' +\r\n",
                "       CAST(DAY(szulido) as nvarchar(2))\r\n",
                "FROM diak\r\n",
                "WHERE YEAR(Szulido) = 1984 OR\r\n",
                "      YEAR(Szulido) = 1985\r\n",
                "-- WHERE YEAR(Szulido) IN (1984, 1985)"
            ],
            "metadata": {
                "azdata_cell_guid": "3e89b651-f56f-4102-af52-30eb2bbe360d",
                "language": "sql"
            },
            "outputs": [],
            "execution_count": null
        },
        {
            "cell_type": "markdown",
            "source": [
                "8. Készítsünk lekérdezést, amely a tanulók nevét és az ebből képzett felhasználói nevét tartalmazza. \n",
                "\n",
                "  \n",
                "\n",
                "a.  A felhasználói név álljon a név első kettő, illetve utolsó kettő betűjének összefűzéséből!\n",
                "\n",
                "b.  A listát szűrjük azon tanulókra, akik teljes neve - szóközzel együtt - legalább 10 betűs!"
            ],
            "metadata": {
                "azdata_cell_guid": "26a504dc-ff6a-439f-94c0-4580eca3eacf"
            },
            "attachments": {}
        },
        {
            "cell_type": "code",
            "source": [
                "-- LEFT, RIGHT, LEN\r\n",
                "SELECT Nev,\r\n",
                "       -- felhasználói név\r\n",
                "       LEFT(nev, 2) + RIGHT(nev, 2)\r\n",
                "FROM diak   \r\n",
                "WHERE LEN(Nev) >= 10"
            ],
            "metadata": {
                "azdata_cell_guid": "1cbb8aeb-78b5-4350-aa45-e3202fdab85b",
                "language": "sql"
            },
            "outputs": [
                {
                    "output_type": "display_data",
                    "data": {
                        "text/html": "(8 rows affected)"
                    },
                    "metadata": {}
                },
                {
                    "output_type": "display_data",
                    "data": {
                        "text/html": "Total execution time: 00:00:00.005"
                    },
                    "metadata": {}
                },
                {
                    "output_type": "execute_result",
                    "metadata": {},
                    "execution_count": 10,
                    "data": {
                        "application/vnd.dataresource+json": {
                            "schema": {
                                "fields": [
                                    {
                                        "name": "Nev"
                                    },
                                    {
                                        "name": "(No column name)"
                                    }
                                ]
                            },
                            "data": [
                                {
                                    "Nev": "Kovács Imre",
                                    "(No column name)": "Kore"
                                },
                                {
                                    "Nev": "Horváth Emil",
                                    "(No column name)": "Hoil"
                                },
                                {
                                    "Nev": "Kapos Petra",
                                    "(No column name)": "Kara"
                                },
                                {
                                    "Nev": "Csóka Anna",
                                    "(No column name)": "Csna"
                                },
                                {
                                    "Nev": "Nyúl Tamás",
                                    "(No column name)": "Nyás"
                                },
                                {
                                    "Nev": "Ordasi Emma",
                                    "(No column name)": "Orma"
                                },
                                {
                                    "Nev": "Koppány Olga",
                                    "(No column name)": "Koga"
                                },
                                {
                                    "Nev": "Kozma Patrícia",
                                    "(No column name)": "Koia"
                                }
                            ]
                        },
                        "text/html": [
                            "<table>",
                            "<tr><th>Nev</th><th>(No column name)</th></tr>",
                            "<tr><td>Kovács Imre</td><td>Kore</td></tr>",
                            "<tr><td>Horváth Emil</td><td>Hoil</td></tr>",
                            "<tr><td>Kapos Petra</td><td>Kara</td></tr>",
                            "<tr><td>Csóka Anna</td><td>Csna</td></tr>",
                            "<tr><td>Nyúl Tamás</td><td>Nyás</td></tr>",
                            "<tr><td>Ordasi Emma</td><td>Orma</td></tr>",
                            "<tr><td>Koppány Olga</td><td>Koga</td></tr>",
                            "<tr><td>Kozma Patrícia</td><td>Koia</td></tr>",
                            "</table>"
                        ]
                    }
                }
            ],
            "execution_count": 10
        },
        {
            "cell_type": "markdown",
            "source": [
                "9. Készítsünk listát a diákok adatairól, ahol a diákok neve úgy jelenik meg, hogy először a keresztnév, majd a vezetéknév, közöttük szóközzel!  \n",
                "\n",
                "a.  Ezen felül a születési idő három külön oszlopban jelenjen meg (év, hónap, nap). \n",
                "\n",
                "b.  Az oszlopokat nevezzük el értelemszerűen!"
            ],
            "metadata": {
                "azdata_cell_guid": "435e2860-2dd5-4877-90f4-34a43baeb53c"
            },
            "attachments": {}
        },
        {
            "cell_type": "code",
            "source": [
                ""
            ],
            "metadata": {
                "azdata_cell_guid": "ce846351-ddbe-4d8e-b8fb-2a92c73ac80b",
                "language": "sql"
            },
            "outputs": [],
            "execution_count": null
        },
        {
            "cell_type": "markdown",
            "source": [
                "10. Készítsünk listát a munkák azonosítójáról és megnevezéséről! Egy új oszlopban azt is jelenítsük meg, hogy melyik munka hetente mennyit fizet! \n",
                "\n",
                "a.  Az oszlop neve legyen Heti bér, az értéket kerekítsük 1000 forintra! \n",
                "\n",
                "b.  A listát szűrjük azon rekordokra, ahol a kerekített heti bér 10000 Ft felett van!"
            ],
            "metadata": {
                "azdata_cell_guid": "217c5772-afe2-4a7c-b913-e3a3e09d6411"
            },
            "attachments": {}
        },
        {
            "cell_type": "code",
            "source": [
                "-- heti bér = óradíj * óraszám * 5\r\n",
                "-- ROUND fv\r\n",
                "SELECT munkaId,\r\n",
                "       allas,\r\n",
                "       -- heti bér\r\n",
                "       ROUND(oradij * oraszam * 5, -3) AS 'heti bér'\r\n",
                "FROM munka\r\n",
                "WHERE  ROUND(oradij * oraszam * 5, -3) > 10000"
            ],
            "metadata": {
                "azdata_cell_guid": "a9cc0926-3dbd-4ed8-8179-1c39d64a0762",
                "language": "sql"
            },
            "outputs": [
                {
                    "output_type": "display_data",
                    "data": {
                        "text/html": "(7 rows affected)"
                    },
                    "metadata": {}
                },
                {
                    "output_type": "display_data",
                    "data": {
                        "text/html": "Total execution time: 00:00:00.004"
                    },
                    "metadata": {}
                },
                {
                    "output_type": "execute_result",
                    "metadata": {},
                    "execution_count": 11,
                    "data": {
                        "application/vnd.dataresource+json": {
                            "schema": {
                                "fields": [
                                    {
                                        "name": "munkaId"
                                    },
                                    {
                                        "name": "allas"
                                    },
                                    {
                                        "name": "heti bér"
                                    }
                                ]
                            },
                            "data": [
                                {
                                    "munkaId": "5",
                                    "allas": "kézbesítő",
                                    "heti bér": "14000"
                                },
                                {
                                    "munkaId": "7",
                                    "allas": "eladó",
                                    "heti bér": "12000"
                                },
                                {
                                    "munkaId": "16",
                                    "allas": "pincér",
                                    "heti bér": "14000"
                                },
                                {
                                    "munkaId": "17",
                                    "allas": "pincér",
                                    "heti bér": "14000"
                                },
                                {
                                    "munkaId": "20",
                                    "allas": "takarító",
                                    "heti bér": "11000"
                                },
                                {
                                    "munkaId": "21",
                                    "allas": "takarító",
                                    "heti bér": "11000"
                                },
                                {
                                    "munkaId": "41",
                                    "allas": "eladó",
                                    "heti bér": "12000"
                                }
                            ]
                        },
                        "text/html": [
                            "<table>",
                            "<tr><th>munkaId</th><th>allas</th><th>heti bér</th></tr>",
                            "<tr><td>5</td><td>kézbesítő</td><td>14000</td></tr>",
                            "<tr><td>7</td><td>eladó</td><td>12000</td></tr>",
                            "<tr><td>16</td><td>pincér</td><td>14000</td></tr>",
                            "<tr><td>17</td><td>pincér</td><td>14000</td></tr>",
                            "<tr><td>20</td><td>takarító</td><td>11000</td></tr>",
                            "<tr><td>21</td><td>takarító</td><td>11000</td></tr>",
                            "<tr><td>41</td><td>eladó</td><td>12000</td></tr>",
                            "</table>"
                        ]
                    }
                }
            ],
            "execution_count": 11
        },
        {
            "cell_type": "markdown",
            "source": [
                "11. A diákok számára differenciált béremelést terveznek: a középiskolások esetében 33%, egyéb esetben 17% mértékben. Készítsünk listát, amely tartalmazza a munkák azonosítóját, az állás nevét, az eredeti óradíjat és a tervezett emelt óradíjat.\n",
                "\n",
                "  \n",
                "\n",
                "a.  Az oszlopoknak adjuk nevet értelemszerűen!\n",
                "\n",
                "b.  Az emelt óradíj összegét kerekítsük egészre! (Az esetlegesen megjelenő 0 tizedesjegyekkel ne foglalkozzunk)"
            ],
            "metadata": {
                "azdata_cell_guid": "d2340f5f-1614-473c-b937-85740d67f7c1"
            },
            "attachments": {}
        },
        {
            "cell_type": "code",
            "source": [
                ""
            ],
            "metadata": {
                "azdata_cell_guid": "e99c2c53-898f-4787-b0e6-182d106dc16f",
                "language": "sql"
            },
            "outputs": [],
            "execution_count": null
        },
        {
            "cell_type": "markdown",
            "source": [
                "12. A diákok számára próbaidőt írnak elő, amely a munka kezdetétől számítva 3 hónapig tart.    Jelenítsük meg a munka tábla adatait egy új oszloppal kiegészítve, amelyik a próbaidő    végének dátumát mutatja!  \n",
                "\n",
                "  \n",
                "\n",
                "a.  Az oszlop neve Próbaidő vége legyen! \n",
                "\n",
                "b.  A lista ne tartalmazza azokat a munkákat, ahol a diákok azonosítója nincs megadva!"
            ],
            "metadata": {
                "azdata_cell_guid": "a765e9d6-58b3-4171-872a-78f3118fd6e3"
            },
            "attachments": {}
        },
        {
            "cell_type": "code",
            "source": [
                ""
            ],
            "metadata": {
                "azdata_cell_guid": "422e8127-b652-4d3a-bfd7-9b1637b5781e",
                "language": "sql"
            },
            "outputs": [],
            "execution_count": null
        },
        {
            "cell_type": "markdown",
            "source": [
                "13. Készítsünk listát a munkák azonosítóiról és a megnevezésükről! A megnevezés allas-óraszám formában jelenjen meg, pl: eladó-4. \n",
                "\n",
                "  \n",
                "\n",
                "a.  Jelenítsük meg a dátumot is, de csak a évet és a hónapot, pl: 2003-07! \n",
                "\n",
                "b.  Ennek az oszlopnak 'Kezdés hónapja' legyen a neve! A listát szűrjük a nyári hónapokra!"
            ],
            "metadata": {
                "azdata_cell_guid": "3f9237ae-f109-401c-acb9-31d75e73331b"
            },
            "attachments": {}
        },
        {
            "cell_type": "code",
            "source": [
                ""
            ],
            "metadata": {
                "azdata_cell_guid": "4b31bb89-cfbc-46b1-8639-85c462877786",
                "language": "sql"
            },
            "outputs": [],
            "execution_count": null
        },
        {
            "cell_type": "markdown",
            "source": [
                "14. Készítsünk listát a diákok adatairól, amely a Nev oszlop helyén a diák monogramját jeleníti meg (keresztnév, illetve vezetéknév első betűje összefűzve). \n",
                "\n",
                "a.  A listát szűrjük 1983.01.01 és 1987.06.01 között született diákokra!"
            ],
            "metadata": {
                "azdata_cell_guid": "f634e09a-85ef-4e70-8ec6-ef355dfddaa7"
            },
            "attachments": {}
        },
        {
            "cell_type": "code",
            "source": [
                ""
            ],
            "metadata": {
                "azdata_cell_guid": "88abc55b-2c78-495b-a72f-3f8f4eb5fe70",
                "language": "sql"
            },
            "outputs": [],
            "execution_count": null
        },
        {
            "cell_type": "markdown",
            "source": [
                "15. A diákok a munkakezdés évének utolsó napján bónuszt kapnak, amennyiben az adott évben legalább 6 hónapot dolgoznak. \n",
                "\n",
                "  \n",
                "\n",
                "a.  Jelenítsük meg, hogy az egyes munkák adatait, egy új oszlopban az éves bónusz napját is 'Bónusz dátum' néven! \n",
                "\n",
                "b.  A lista csak a bónuszra jogosultak adatait tartalmazza!"
            ],
            "metadata": {
                "azdata_cell_guid": "4cbf2f0d-a65d-480a-8186-ccdb24498443"
            },
            "attachments": {}
        },
        {
            "cell_type": "code",
            "source": [
                ""
            ],
            "metadata": {
                "azdata_cell_guid": "c148aee8-bc85-40bf-b80a-a4898a6c05cb",
                "language": "sql"
            },
            "outputs": [],
            "execution_count": null
        }
    ]
}